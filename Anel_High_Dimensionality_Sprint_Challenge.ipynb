{
  "nbformat": 4,
  "nbformat_minor": 0,
  "metadata": {
    "colab": {
      "name": "Anel High Dimensionality Sprint Challenge.ipynb",
      "version": "0.3.2",
      "provenance": [],
      "collapsed_sections": []
    },
    "kernelspec": {
      "name": "python3",
      "display_name": "Python 3"
    }
  },
  "cells": [
    {
      "cell_type": "markdown",
      "metadata": {
        "id": "view-in-github",
        "colab_type": "text"
      },
      "source": [
        "[View in Colaboratory](https://colab.research.google.com/github/nurkayevaa/lambda/blob/master/Anel_High_Dimensionality_Sprint_Challenge.ipynb)"
      ]
    },
    {
      "metadata": {
        "id": "8dtL-3V557G6",
        "colab_type": "text"
      },
      "cell_type": "markdown",
      "source": [
        "# High Dimensionality Sprint Challenge\n",
        "\n",
        "High Dimensionality is characterized by the _Curse of Dimensionality_. Humans can visualize 2d and 3d, but not anything higher. How do we reason about data?\n",
        "\n",
        "High Dimensionality Objectives include:\n",
        "* Normalize a vector into a magnitude and unit vector\n",
        "* Compute L1 and L2 distances of a pair of vectors\n",
        "* Compute the distance between pairs of vectors and select the smallest"
      ]
    },
    {
      "metadata": {
        "id": "PMajVGoY54DR",
        "colab_type": "code",
        "colab": {}
      },
      "cell_type": "code",
      "source": [
        "# LAMBDA SCHOOL\n",
        "#\n",
        "# MACHINE LEARNING\n",
        "#\n",
        "# MIT LICENSE\n",
        "\n",
        "import numpy as np"
      ],
      "execution_count": 0,
      "outputs": []
    },
    {
      "metadata": {
        "id": "YUo0Gg2UbieJ",
        "colab_type": "text"
      },
      "cell_type": "markdown",
      "source": [
        "# 1. Normalize a vector into magnitude and unit vector"
      ]
    },
    {
      "metadata": {
        "id": "RuZFC7k8bnRu",
        "colab_type": "code",
        "colab": {
          "base_uri": "https://localhost:8080/",
          "height": 34
        },
        "outputId": "4c405cdd-0c3f-4aae-89a2-b7c0fe333d10"
      },
      "cell_type": "code",
      "source": [
        "v = np.array([17,7,5,2,1])\n",
        "\n",
        "# m = Magnitude of v\n",
        "m = np.linalg.norm(v)\n",
        "\n",
        "# v_u = unit vector of v such that m * v_u = v\n",
        "v_u = v/m\n",
        "print(\"unit vector of v such that m * v_u = v  is \",v_u)\n",
        "\n",
        "\n",
        "\n",
        "\n"
      ],
      "execution_count": 79,
      "outputs": [
        {
          "output_type": "stream",
          "text": [
            "unit vector of v such that m * v_u = v  is  [0.88618626 0.36490022 0.26064302 0.10425721 0.0521286 ]\n"
          ],
          "name": "stdout"
        }
      ]
    },
    {
      "metadata": {
        "id": "sgNZ1QDCdErt",
        "colab_type": "text"
      },
      "cell_type": "markdown",
      "source": [
        "# 2. Compute the L1 and L2 distances of a pair of vectors\n",
        "\n",
        "Recall that the L1 distance is the \"manhattan\" distance, the sum of absolute values of a vector:\n",
        "\n",
        "$d_{v}^{L1} = \\sum{|v_i|}$\n",
        "\n",
        "The L2 distance or \"euclidean\" distance is the square root of the sum of the squares of a vector:\n",
        "\n",
        "$d_{v}^{L2} = \\sqrt{\\sum{v_i^2}}$"
      ]
    },
    {
      "metadata": {
        "id": "d__wWc1CdSv7",
        "colab_type": "code",
        "colab": {}
      },
      "cell_type": "code",
      "source": [
        "a = np.array([1,2,0,1,2,0,1,2])\n",
        "b = np.array([9,2,4,1,1,5,0,2])\n",
        "\n",
        "\n",
        "# l1 = the L1 distance between a and b\n",
        "l1 =  np.linalg.norm((a - b), ord=1)\n",
        "\n",
        "\n",
        "# l1 = the L2 distance between a and b\n",
        "l2 = np.linalg.norm(a-b) \n",
        "\n"
      ],
      "execution_count": 0,
      "outputs": []
    },
    {
      "metadata": {
        "id": "mlKMlSmreNvk",
        "colab_type": "text"
      },
      "cell_type": "markdown",
      "source": [
        "# 3. Compute the distance between pairs of vectors and select the smallest\n",
        "\n",
        "For this sprint challenge goal, you are _NOT_ required to compute the pairwise distance of every point in a set. Instead, find the row $i$ with the shortest distance between $x_i$ and $y_i$, two separate sets of $2d$ points."
      ]
    },
    {
      "metadata": {
        "id": "N33-3PgVeIkR",
        "colab_type": "code",
        "colab": {
          "base_uri": "https://localhost:8080/",
          "height": 68
        },
        "outputId": "d7cf7c76-6da1-429e-9080-9cbbc2b0a276"
      },
      "cell_type": "code",
      "source": [
        "x = np.array([[10.,  2.,  0.,  3., -4.,  1., -5., 10.,  7.,  6.],\n",
        "              [-4.,  4., -0.,  4., -9.,  1., -2.,  2.,  1., -1.]]).T\n",
        "\n",
        "y = np.array([[-7., 10., -8.,  7., -5., -4.,  0.,  7., -9., -2.],\n",
        "              [-7.,  2.,  4.,  7., -5., 10., -2., -2.,  1., -2.]]).T\n",
        "\n",
        "# Your code to find the pair of points at row i with the shortest distance between them \n",
        "x.shape[0]\n",
        "\n",
        "\n",
        "from numpy import inf\n",
        "\n",
        "def get_nearest_pair_T():\n",
        "  #min set to infinity\n",
        "  minDist = inf\n",
        "  my_i=0\n",
        "  for i in range (x.shape[0]):\n",
        "    #  for every i row i am checking the distance and recording the minimums \n",
        "     if np.linalg.norm(x[i,:]-y[i,:]) < minDist: # when \n",
        "        minDist = np.linalg.norm(x[i,:]-y[i,:]) #recording the minimums dist\n",
        "        nearestPair = (x[i,:], y[i,:]) #recording the minimums' pair\n",
        "        my_i= i #recording the minimums' index\n",
        "        \n",
        "  return (nearestPair, minDist, my_i)\n",
        "  \n",
        " \n",
        "  \n",
        "\n",
        "\n",
        "\n",
        "get_nearest_pair_T()\n",
        "\n",
        "\n",
        "\n",
        "\n",
        "i = get_nearest_pair_T()[2]\n",
        "\n",
        "# The distance between x_i and y_i\n",
        "d = get_nearest_pair_T()[1]\n",
        "\n",
        "#vect\n",
        "\n",
        "vect = d = get_nearest_pair_T()[0]\n",
        "print(\"The nearest pair is : \", get_nearest_pair_T()[0])\n",
        "print(\"The distance between the nearest pair is : \",  get_nearest_pair_T()[1])\n",
        "print(\"The nearest pairs index : \", get_nearest_pair_T()[2])\n",
        "  \n"
      ],
      "execution_count": 85,
      "outputs": [
        {
          "output_type": "stream",
          "text": [
            "The nearest pair is :  (array([-4., -9.]), array([-5., -5.]))\n",
            "The distance between the nearest pair is :  4.123105625617661\n",
            "The nearest pairs index :  4\n"
          ],
          "name": "stdout"
        }
      ]
    }
  ]
}